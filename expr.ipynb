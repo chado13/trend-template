{
 "cells": [
  {
   "cell_type": "code",
   "execution_count": 23,
   "metadata": {},
   "outputs": [],
   "source": [
    "from alphaverse.expr import And, Gt, Lt, Constant, Factor, VectorMult, TopK\n",
    "from alphaverse.engine import Engine\n",
    "from provider import PriceProvider, SMAProvider, NewPriceProvider, SmaMomentumProvider, RSProvider"
   ]
  },
  {
   "cell_type": "code",
   "execution_count": 17,
   "metadata": {},
   "outputs": [],
   "source": [
    "providers = {}\n",
    "providers[\"close\"] = PriceProvider(\"close\")\n",
    "providers[\"sma50\"] = SMAProvider(50)\n",
    "providers[\"sma150\"] = SMAProvider(150)\n",
    "providers[\"sma200\"] = SMAProvider(200)\n",
    "providers[\"high52\"] = NewPriceProvider(field=\"high\", window=52)\n",
    "providers[\"low52\"] = NewPriceProvider(field=\"low\", window=52)\n",
    "providers[\"sma_momentum\"] = SmaMomentumProvider(200, 20)\n",
    "providers[\"rs\"] = RSProvider()"
   ]
  },
  {
   "cell_type": "code",
   "execution_count": 18,
   "metadata": {},
   "outputs": [],
   "source": [
    "engine = Engine(providers)"
   ]
  },
  {
   "cell_type": "code",
   "execution_count": 19,
   "metadata": {},
   "outputs": [],
   "source": [
    "# trend template conditions\n",
    "# 1. 현 주가가 150일(30주), 이동평균선이 200일(40주) 이동평균선 위에 있다.\n",
    "# 2. 150일 이동평균선이 200일 이동평균선 위에 있다.\n",
    "# 3. 200일 이동평균선이 적어도 1개월 동안(최소 4~5개월이 바람직함) 상승 추세에 있다.\n",
    "# 4. 50일(10주) 이동평균선이 150일, 200일 이동평균선보다 위에 있다.\n",
    "# 5. 현 주가가  50일 이동평균선 위에 있다.\n",
    "# 6. 현 주가가 52주 신저가보다 30% 위에 있다.\n",
    "# 7. 현 주가가 최소한 52주 신고가의 25% 안에 있다.(신고가에 가까울 수록 좋다.)\n",
    "# 8. 중요 지수 대비 개별종목의 상대적 상승 및 하락여부를 계산하여 1~99까지 랭킹을 매긴다. 숫자가 높을 수록 지수대비 상대 강도가 강한 종목이라고 볼 수 있다."
   ]
  },
  {
   "cell_type": "code",
   "execution_count": 32,
   "metadata": {},
   "outputs": [],
   "source": [
    "fst = And(Gt(Factor('close'), Factor('sma150')), Gt(Factor('close'), Factor('sma200')))\n",
    "secd = Gt(Factor('sma150'), Factor('sma200'))\n",
    "thrd = Gt(Factor(\"sma_momentum\"), Constant(0))\n",
    "forth = And(Gt(Factor('sma50'), Factor('sma150')), Gt(Factor('sma50'), Factor('sma200')))\n",
    "fifth = Gt(Factor('close'), Factor('sma50'))\n",
    "sixth = Gt(Factor('close'), VectorMult(Factor('low52'), Constant(1.3)))\n",
    "seventh = And(Gt(Factor('close'), VectorMult(Factor('high52'), Constant(0.75))), Lt(Factor('close'), VectorMult(Factor('high52'), Constant(1.25))))\n",
    "eighth = TopK(Factor('rs'), Constant(99))"
   ]
  },
  {
   "cell_type": "code",
   "execution_count": 33,
   "metadata": {},
   "outputs": [],
   "source": [
    "expr = And(fst, secd, thrd, forth, fifth, sixth, seventh, eighth)"
   ]
  },
  {
   "cell_type": "code",
   "execution_count": 34,
   "metadata": {},
   "outputs": [
    {
     "data": {
      "text/html": [
       "<div><style>\n",
       ".dataframe > thead > tr,\n",
       ".dataframe > tbody > tr {\n",
       "  text-align: right;\n",
       "  white-space: pre-wrap;\n",
       "}\n",
       "</style>\n",
       "<small>shape: (20, 9)</small><table border=\"1\" class=\"dataframe\"><thead><tr><th>code</th><th>close</th><th>sma150</th><th>sma200</th><th>sma_momentum</th><th>sma50</th><th>low52</th><th>high52</th><th>rs</th></tr><tr><td>str</td><td>f64</td><td>f64</td><td>f64</td><td>f64</td><td>f64</td><td>f64</td><td>f64</td><td>f64</td></tr></thead><tbody><tr><td>&quot;700009&quot;</td><td>20565.0</td><td>13990.166667</td><td>13832.8</td><td>125.0</td><td>16136.1</td><td>11610.0</td><td>20565.0</td><td>59.762707</td></tr><tr><td>&quot;179900&quot;</td><td>37800.0</td><td>32690.666667</td><td>30364.4</td><td>950.0</td><td>32950.0</td><td>17320.0</td><td>42550.0</td><td>57.759825</td></tr><tr><td>&quot;530063&quot;</td><td>20795.0</td><td>14091.866667</td><td>13950.45</td><td>210.0</td><td>16254.8</td><td>11610.0</td><td>20795.0</td><td>59.056908</td></tr><tr><td>&quot;500040&quot;</td><td>26780.0</td><td>17673.433333</td><td>17433.5</td><td>425.0</td><td>20690.4</td><td>14525.0</td><td>33300.0</td><td>61.105074</td></tr><tr><td>&quot;078350&quot;</td><td>28250.0</td><td>16275.0</td><td>15493.1</td><td>200.0</td><td>20532.2</td><td>11200.0</td><td>30800.0</td><td>69.971606</td></tr><tr><td>&quot;232140&quot;</td><td>16380.0</td><td>6181.633333</td><td>5633.875</td><td>90.0</td><td>9150.0</td><td>3120.0</td><td>16930.0</td><td>128.134279</td></tr><tr><td>&quot;252990&quot;</td><td>7890.0</td><td>6370.5</td><td>6200.275</td><td>630.0</td><td>7385.6</td><td>4585.0</td><td>9280.0</td><td>106.590223</td></tr><tr><td>&quot;106190&quot;</td><td>13030.0</td><td>9587.266667</td><td>9526.67</td><td>140.0</td><td>10194.6</td><td>7880.0</td><td>13030.0</td><td>67.744774</td></tr><tr><td>&quot;223220&quot;</td><td>650.0</td><td>494.84</td><td>491.925</td><td>40.0</td><td>546.5</td><td>308.0</td><td>698.0</td><td>127.546715</td></tr><tr><td>&quot;570072&quot;</td><td>24210.0</td><td>15976.5</td><td>15759.425</td><td>300.0</td><td>18718.6</td><td>13425.0</td><td>24210.0</td><td>60.628148</td></tr><tr><td>&quot;580032&quot;</td><td>20835.0</td><td>14071.2</td><td>13924.425</td><td>120.0</td><td>16238.0</td><td>11575.0</td><td>20835.0</td><td>61.565031</td></tr><tr><td>&quot;036830&quot;</td><td>80600.0</td><td>48155.666667</td><td>43934.25</td><td>1300.0</td><td>59724.0</td><td>24750.0</td><td>87800.0</td><td>142.075585</td></tr><tr><td>&quot;039570&quot;</td><td>10990.0</td><td>7824.533333</td><td>7808.85</td><td>50.0</td><td>8323.2</td><td>7100.0</td><td>12200.0</td><td>115.87566</td></tr><tr><td>&quot;053030&quot;</td><td>15660.0</td><td>10525.266667</td><td>10217.0</td><td>1410.0</td><td>14144.6</td><td>7240.0</td><td>18480.0</td><td>97.775192</td></tr><tr><td>&quot;550069&quot;</td><td>20760.0</td><td>14035.566667</td><td>13889.325</td><td>260.0</td><td>16205.1</td><td>11620.0</td><td>20760.0</td><td>61.562607</td></tr><tr><td>&quot;083650&quot;</td><td>9930.0</td><td>8057.133333</td><td>7880.15</td><td>140.0</td><td>8873.8</td><td>6340.0</td><td>11670.0</td><td>72.213517</td></tr><tr><td>&quot;142210&quot;</td><td>6680.0</td><td>5388.9</td><td>5158.55</td><td>30.0</td><td>6084.2</td><td>3360.0</td><td>8000.0</td><td>98.748818</td></tr><tr><td>&quot;610028&quot;</td><td>20855.0</td><td>14088.333333</td><td>13939.425</td><td>60.0</td><td>16246.3</td><td>11660.0</td><td>20855.0</td><td>59.113664</td></tr><tr><td>&quot;042500&quot;</td><td>7520.0</td><td>4376.82</td><td>4132.3</td><td>363.0</td><td>6161.66</td><td>2966.0</td><td>8160.0</td><td>64.726116</td></tr><tr><td>&quot;250030&quot;</td><td>5220.0</td><td>3837.9</td><td>3788.225</td><td>170.0</td><td>4070.6</td><td>2890.0</td><td>5390.0</td><td>117.437852</td></tr></tbody></table></div>"
      ],
      "text/plain": [
       "shape: (20, 9)\n",
       "┌────────┬─────────┬──────────────┬───────────┬───┬─────────┬─────────┬─────────┬────────────┐\n",
       "│ code   ┆ close   ┆ sma150       ┆ sma200    ┆ … ┆ sma50   ┆ low52   ┆ high52  ┆ rs         │\n",
       "│ ---    ┆ ---     ┆ ---          ┆ ---       ┆   ┆ ---     ┆ ---     ┆ ---     ┆ ---        │\n",
       "│ str    ┆ f64     ┆ f64          ┆ f64       ┆   ┆ f64     ┆ f64     ┆ f64     ┆ f64        │\n",
       "╞════════╪═════════╪══════════════╪═══════════╪═══╪═════════╪═════════╪═════════╪════════════╡\n",
       "│ 700009 ┆ 20565.0 ┆ 13990.166667 ┆ 13832.8   ┆ … ┆ 16136.1 ┆ 11610.0 ┆ 20565.0 ┆ 59.762707  │\n",
       "│ 179900 ┆ 37800.0 ┆ 32690.666667 ┆ 30364.4   ┆ … ┆ 32950.0 ┆ 17320.0 ┆ 42550.0 ┆ 57.759825  │\n",
       "│ 530063 ┆ 20795.0 ┆ 14091.866667 ┆ 13950.45  ┆ … ┆ 16254.8 ┆ 11610.0 ┆ 20795.0 ┆ 59.056908  │\n",
       "│ 500040 ┆ 26780.0 ┆ 17673.433333 ┆ 17433.5   ┆ … ┆ 20690.4 ┆ 14525.0 ┆ 33300.0 ┆ 61.105074  │\n",
       "│ …      ┆ …       ┆ …            ┆ …         ┆ … ┆ …       ┆ …       ┆ …       ┆ …          │\n",
       "│ 142210 ┆ 6680.0  ┆ 5388.9       ┆ 5158.55   ┆ … ┆ 6084.2  ┆ 3360.0  ┆ 8000.0  ┆ 98.748818  │\n",
       "│ 610028 ┆ 20855.0 ┆ 14088.333333 ┆ 13939.425 ┆ … ┆ 16246.3 ┆ 11660.0 ┆ 20855.0 ┆ 59.113664  │\n",
       "│ 042500 ┆ 7520.0  ┆ 4376.82      ┆ 4132.3    ┆ … ┆ 6161.66 ┆ 2966.0  ┆ 8160.0  ┆ 64.726116  │\n",
       "│ 250030 ┆ 5220.0  ┆ 3837.9       ┆ 3788.225  ┆ … ┆ 4070.6  ┆ 2890.0  ┆ 5390.0  ┆ 117.437852 │\n",
       "└────────┴─────────┴──────────────┴───────────┴───┴─────────┴─────────┴─────────┴────────────┘"
      ]
     },
     "execution_count": 34,
     "metadata": {},
     "output_type": "execute_result"
    }
   ],
   "source": [
    "await engine.screen(expr)"
   ]
  },
  {
   "cell_type": "code",
   "execution_count": null,
   "metadata": {},
   "outputs": [],
   "source": []
  }
 ],
 "metadata": {
  "kernelspec": {
   "display_name": "trend-template",
   "language": "python",
   "name": "python3"
  },
  "language_info": {
   "codemirror_mode": {
    "name": "ipython",
    "version": 3
   },
   "file_extension": ".py",
   "mimetype": "text/x-python",
   "name": "python",
   "nbconvert_exporter": "python",
   "pygments_lexer": "ipython3",
   "version": "3.10.9"
  }
 },
 "nbformat": 4,
 "nbformat_minor": 2
}
