{
 "cells": [
  {
   "cell_type": "code",
   "execution_count": 4,
   "metadata": {},
   "outputs": [],
   "source": [
    "from alphaverse.expr import And, Gt, Lt, Constant, Factor, Mult\n",
    "from alphaverse.data_portal import DataPortal\n",
    "from provider import PriceProvider, SMAProvider, NewPriceProvider, SmaMomentumProvider, RSProvider"
   ]
  },
  {
   "cell_type": "code",
   "execution_count": 5,
   "metadata": {},
   "outputs": [],
   "source": [
    "providers = {}\n",
    "providers[\"close\"] = PriceProvider(\"close\")\n",
    "providers[\"sma_50\"] = SMAProvider(50)\n",
    "providers[\"sma_150\"] = SMAProvider(150)\n",
    "providers[\"sma_200\"] = SMAProvider(200)\n",
    "providers[\"high52\"] = NewPriceProvider(\"high\", 52)\n",
    "providers[\"low52\"] = NewPriceProvider(\"low\", 52)\n",
    "providers[\"sma_momentum\"] = SmaMomentumProvider(200, 20)\n",
    "providers[\"rs\"] = RSProvider()"
   ]
  },
  {
   "cell_type": "code",
   "execution_count": 2,
   "metadata": {},
   "outputs": [],
   "source": [
    "# trend template conditions\n",
    "# 1. 현 주가가 150일(30주), 이동평균선이 200일(40주) 이동평균선 위에 있다.\n",
    "# 2. 150일 이동평균선이 200일 이동평균선 위에 있다.\n",
    "# 3. 200일 이동평균선이 적어도 1개월 동안(최소 4~5개월이 바람직함) 상승 추세에 있다.\n",
    "# 4. 50일(10주) 이동평균선이 150일, 200일 이동평균선보다 위에 있다.\n",
    "# 5. 현 주가가  50일 이동평균선 위에 있다.\n",
    "# 6. 현 주가가 52주 신저가보다 30% 위에 있다.\n",
    "# 7. 현 주가가 최소한 52주 신고가의 25% 안에 있다.(신고가에 가까울 수록 좋다.)\n",
    "# 8. 중요 지수 대비 개별종목의 상대적 상승 및 하락여부를 계산하여 1~99까지 랭킹을 매긴다. 숫자가 높을 수록 지수대비 상대 강도가 강한 종목이라고 볼 수 있다."
   ]
  },
  {
   "cell_type": "code",
   "execution_count": null,
   "metadata": {},
   "outputs": [],
   "source": [
    "fst = And(Gt(Factor('close'), Factor('ma150')), Gt(Factor('close'), Factor('ma200')))\n",
    "secd = Gt(Factor('ma150'), Factor('ma200'))\n",
    "#thrd = TODO: n개월 추세선 indicator 만들어서 사용\n",
    "forth = And(Gt(Factor('ma50'), Factor('ma150')), Gt(Factor('ma50'), Factor('ma200')))\n",
    "fifth = Gt(Factor('close'), Factor('ma50'))\n",
    "sixth = Gt(Factor('close'), Mult(Factor('low52'), Constant(1.3)))\n",
    "seventh = And(Gt(Factor('close'), Mult(Factor('high52'), Constant(0.75)), Lt(Factor('close'), Mult(Factor('high52'), Constant(1.25)))))\n",
    "#eighth = TODO: 지수대비 상대적 강도 계산"
   ]
  }
 ],
 "metadata": {
  "kernelspec": {
   "display_name": "trend-template",
   "language": "python",
   "name": "python3"
  },
  "language_info": {
   "codemirror_mode": {
    "name": "ipython",
    "version": 3
   },
   "file_extension": ".py",
   "mimetype": "text/x-python",
   "name": "python",
   "nbconvert_exporter": "python",
   "pygments_lexer": "ipython3",
   "version": "3.10.9"
  }
 },
 "nbformat": 4,
 "nbformat_minor": 2
}
